{
 "cells": [
  {
   "cell_type": "markdown",
   "metadata": {},
   "source": [
    "# Test Access to a liteServer "
   ]
  },
  {
   "cell_type": "code",
   "execution_count": null,
   "metadata": {},
   "outputs": [],
   "source": [
    "#Make sure that a liteServer is running.\n",
    "#For this test it is assumed that liteServer liteScaler.py running on local host.\n",
    "#import subprocess\n",
    "#subprocess.call(['./liteScaler.py'])"
   ]
  },
  {
   "cell_type": "code",
   "execution_count": 1,
   "metadata": {},
   "outputs": [],
   "source": [
    "import liteAccess"
   ]
  },
  {
   "cell_type": "code",
   "execution_count": 2,
   "metadata": {},
   "outputs": [
    {
     "name": "stdout",
     "output_type": "stream",
     "text": [
      "Server address;port: 130.199.105.240;9700\n"
     ]
    }
   ],
   "source": [
    "#``````````````````Server address and port. Please change hostPort to proper server if it is not localhost.\n",
    "serverAddr = liteAccess.ip_address()#  localhost\n",
    "port = 9700#  \n",
    "hostPort = '%s;%i'%(serverAddr,port)\n",
    "print('Server address;port:',hostPort)"
   ]
  },
  {
   "cell_type": "code",
   "execution_count": 3,
   "metadata": {},
   "outputs": [
    {
     "name": "stdout",
     "output_type": "stream",
     "text": [
      "hostPort 130.199.105.240;9700 <class 'str'>\n",
      "UDP client of ('130.199.105.240', 9700), timeout None\n",
      "Server 130.199.105.240;9700 supports following devices: ['server', 'dev1', 'dev2']\n"
     ]
    }
   ],
   "source": [
    "#``````````````````List of supported devices\n",
    "devs = liteAccess.PV([hostPort]).info()\n",
    "print('Server '+hostPort+' supports following devices: '+str(devs))"
   ]
  },
  {
   "cell_type": "code",
   "execution_count": 4,
   "metadata": {},
   "outputs": [
    {
     "name": "stdout",
     "output_type": "stream",
     "text": [
      "hostPort 130.199.105.240;9700 <class 'str'>\n",
      "UDP client of ('130.199.105.240', 9700), timeout None\n",
      "Device info: {'dev1:counters': '?', 'dev1:increments': '?', 'dev1:frequency': '?', 'dev1:pause': '?', 'dev1:reset': '?', 'dev1:image': '?', 'dev1:time': '?'}\n"
     ]
    }
   ],
   "source": [
    "#``````````````````Information on first device\n",
    "firstDev = devs[1]#\n",
    "devInfo = liteAccess.PV([hostPort,firstDev]).info()\n",
    "print('Device info:',devInfo)"
   ]
  },
  {
   "cell_type": "code",
   "execution_count": 5,
   "metadata": {},
   "outputs": [
    {
     "name": "stdout",
     "output_type": "stream",
     "text": [
      "hostPort 130.199.105.240;9700 <class 'str'>\n",
      "UDP client of ('130.199.105.240', 9700), timeout None\n"
     ]
    }
   ],
   "source": [
    "#``````````````````request single parameter: image\n",
    "image = liteAccess.PV([hostPort,firstDev,'image'])"
   ]
  },
  {
   "cell_type": "code",
   "execution_count": 6,
   "metadata": {},
   "outputs": [
    {
     "name": "stdout",
     "output_type": "stream",
     "text": [
      "image: (480, 640, 3) [[[  9   1   2]\n",
      "  [  3   4   5]\n",
      "  [  6   7   8]\n",
      "  ...\n",
      "  [119 120 121]\n",
      "  [122 123 124]\n",
      "  [125 126 127]]\n",
      "\n",
      " [[128 129 130]\n",
      "  [131 132 133]\n",
      "  [134 135 136]\n",
      "  ...\n",
      "  [247 248 249]\n",
      "  [250 251 252]\n",
      "  [253 254 255]]\n",
      "\n",
      " [[  0   1   2]\n",
      "  [  3   4   5]\n",
      "  [  6   7   8]\n",
      "  ...\n",
      "  [119 120 121]\n",
      "  [122 123 124]\n",
      "  [125 126 127]]\n",
      "\n",
      " ...\n",
      "\n",
      " [[128 129 130]\n",
      "  [131 132 133]\n",
      "  [134 135 136]\n",
      "  ...\n",
      "  [247 248 249]\n",
      "  [250 251 252]\n",
      "  [253 254 255]]\n",
      "\n",
      " [[  0   1   2]\n",
      "  [  3   4   5]\n",
      "  [  6   7   8]\n",
      "  ...\n",
      "  [119 120 121]\n",
      "  [122 123 124]\n",
      "  [125 126 127]]\n",
      "\n",
      " [[128 129 130]\n",
      "  [131 132 133]\n",
      "  [134 135 136]\n",
      "  ...\n",
      "  [247 248 249]\n",
      "  [250 251 252]\n",
      "  [253 254 255]]]\n"
     ]
    }
   ],
   "source": [
    "#``````````````````get requested data\n",
    "v = image.value[firstDev+':image']\n",
    "print('image:',v.shape,v)"
   ]
  },
  {
   "cell_type": "code",
   "execution_count": 15,
   "metadata": {},
   "outputs": [
    {
     "name": "stdout",
     "output_type": "stream",
     "text": [
      "hostPort 130.199.105.240;9700 <class 'str'>\n",
      "UDP client of ('130.199.105.240', 9700), timeout None\n"
     ]
    }
   ],
   "source": [
    "#``````````````````request multiple parameters (timestamp and image) from multiple devices: \n",
    "timeImage = liteAccess.PV([hostPort,[firstDev,'dev2'],['time','image']])"
   ]
  },
  {
   "cell_type": "code",
   "execution_count": 18,
   "metadata": {},
   "outputs": [
    {
     "name": "stdout",
     "output_type": "stream",
     "text": [
      "dict_keys(['dev1:time', 'dev1:image', 'dev2:time', 'dev2:image'])\n"
     ]
    }
   ],
   "source": [
    "#``````````````````get requested data\n",
    "v = timeImage.value\n",
    "print(v.keys())"
   ]
  },
  {
   "cell_type": "code",
   "execution_count": 17,
   "metadata": {},
   "outputs": [
    {
     "name": "stdout",
     "output_type": "stream",
     "text": [
      "timestamp 1573586693.1701133\n"
     ]
    }
   ],
   "source": [
    "timestamp = v[firstDev+':time'][0]\n",
    "print('timestamp',timestamp)"
   ]
  },
  {
   "cell_type": "code",
   "execution_count": 10,
   "metadata": {},
   "outputs": [
    {
     "name": "stdout",
     "output_type": "stream",
     "text": [
      "firstDev image: [[[ 15   1   2]\n",
      "  [  3   4   5]\n",
      "  [  6   7   8]\n",
      "  ...\n",
      "  [119 120 121]\n",
      "  [122 123 124]\n",
      "  [125 126 127]]\n",
      "\n",
      " [[128 129 130]\n",
      "  [131 132 133]\n",
      "  [134 135 136]\n",
      "  ...\n",
      "  [247 248 249]\n",
      "  [250 251 252]\n",
      "  [253 254 255]]\n",
      "\n",
      " [[  0   1   2]\n",
      "  [  3   4   5]\n",
      "  [  6   7   8]\n",
      "  ...\n",
      "  [119 120 121]\n",
      "  [122 123 124]\n",
      "  [125 126 127]]\n",
      "\n",
      " ...\n",
      "\n",
      " [[128 129 130]\n",
      "  [131 132 133]\n",
      "  [134 135 136]\n",
      "  ...\n",
      "  [247 248 249]\n",
      "  [250 251 252]\n",
      "  [253 254 255]]\n",
      "\n",
      " [[  0   1   2]\n",
      "  [  3   4   5]\n",
      "  [  6   7   8]\n",
      "  ...\n",
      "  [119 120 121]\n",
      "  [122 123 124]\n",
      "  [125 126 127]]\n",
      "\n",
      " [[128 129 130]\n",
      "  [131 132 133]\n",
      "  [134 135 136]\n",
      "  ...\n",
      "  [247 248 249]\n",
      "  [250 251 252]\n",
      "  [253 254 255]]]\n"
     ]
    }
   ],
   "source": [
    "image = v[firstDev+':image']\n",
    "print('firstDev image: '+str(image))"
   ]
  },
  {
   "cell_type": "code",
   "execution_count": null,
   "metadata": {},
   "outputs": [],
   "source": []
  }
 ],
 "metadata": {
  "kernelspec": {
   "display_name": "Python 3",
   "language": "python",
   "name": "python3"
  },
  "language_info": {
   "codemirror_mode": {
    "name": "ipython",
    "version": 3
   },
   "file_extension": ".py",
   "mimetype": "text/x-python",
   "name": "python",
   "nbconvert_exporter": "python",
   "pygments_lexer": "ipython3",
   "version": "3.6.8"
  }
 },
 "nbformat": 4,
 "nbformat_minor": 2
}
